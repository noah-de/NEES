{
 "cells": [
  {
   "cell_type": "markdown",
   "metadata": {},
   "source": [
    "# Effective amplitude spectrum calculation \n",
    "from https://github.com/arkottke/notebooks/blob/master/effective_amp_spectrum.ipynb"
   ]
  },
  {
   "cell_type": "code",
   "execution_count": 1,
   "metadata": {},
   "outputs": [],
   "source": [
    "from __future__ import division\n",
    "\n",
    "import re\n",
    "import numpy as np \n",
    "import matplotlib.pyplot as plt\n",
    "import pandas as pd\n",
    "import numba\n",
    "\n",
    "%matplotlib inline"
   ]
  },
  {
   "cell_type": "code",
   "execution_count": 2,
   "metadata": {},
   "outputs": [],
   "source": [
    "def load_at2(fname):\n",
    "    with open(fname) as fp:\n",
    "        # Skip 3 header lines\n",
    "        for _ in range(3):\n",
    "            next(fp)\n",
    "        # Find count and timestep.\n",
    "        # Ex: 'NPTS=   5093, DT=   .0100 SEC, '\n",
    "        # Here a regular expression is used to find numbers in the line\n",
    "        parts = re.findall(r'[.0-9]+', next(fp))\n",
    "        count = int(parts[0])\n",
    "        time_step = float(parts[1])\n",
    "        accels = np.array([p for l in fp for p in l.split()]).astype(float)\n",
    "        \n",
    "    return {'time_step': time_step, 'accels': accels}"
   ]
  },
  {
   "cell_type": "code",
   "execution_count": 3,
   "metadata": {},
   "outputs": [],
   "source": [
    "fnames = ['data/RSN763_LOMAP_GIL067.AT2', 'data/RSN763_LOMAP_GIL337.AT2']\n",
    "\n",
    "time_series = [load_at2(fname) for fname in fnames]"
   ]
  },
  {
   "cell_type": "code",
   "execution_count": 4,
   "metadata": {},
   "outputs": [],
   "source": [
    "#fig, axes = plt.subplots(nrows=2, sharex=True, sharey=True)\n",
    "\n",
    "# for ax, ts in zip(axes, time_series):\n",
    "#    times = ts['time_step'] * np.arange(ts['accels'].size)\n",
    "#    ax.plot(times, ts['accels'])\n",
    "\n",
    "# plt.setp(axes, ylabel='Acc. (g)')\n",
    "# axes[-1].set(xlabel='Time (s)')\n",
    "\n",
    "# fig.tight_layout()"
   ]
  },
  {
   "cell_type": "markdown",
   "metadata": {},
   "source": [
    "## Calculate Fourier spectra"
   ]
  },
  {
   "cell_type": "code",
   "execution_count": 5,
   "metadata": {},
   "outputs": [],
   "source": [
    "assert len(time_series[0]) == len(time_series[1])"
   ]
  },
  {
   "cell_type": "code",
   "execution_count": 6,
   "metadata": {},
   "outputs": [
    {
     "name": "stdout",
     "output_type": "stream",
     "text": [
      "[0.00000000e+00 2.50031254e-02 5.00062508e-02 ... 9.99374922e+01\n",
      " 9.99624953e+01 9.99874984e+01]\n"
     ]
    }
   ],
   "source": [
    "for ts in time_series:\n",
    "    ts['fourier_amps'] = np.fft.rfft(ts['accels'])\n",
    "    \n",
    "ts0 = time_series[0]\n",
    "freqs = np.fft.rfftfreq(ts0['accels'].size, d=ts0['time_step'])\n",
    "\n",
    "print(freqs)\n",
    "\n",
    "effect_amps = np.sqrt(np.mean(\n",
    "    [np.abs(ts['fourier_amps']) ** 2 for ts in time_series], axis=0))"
   ]
  },
  {
   "cell_type": "code",
   "execution_count": 7,
   "metadata": {},
   "outputs": [],
   "source": [
    "#fig, axes = plt.subplots(ncols=3, sharex=True, sharey=True, figsize=(12,4))\n",
    "\n",
    "#for ts, ax in zip(time_series, axes):\n",
    "#    ax.plot(freqs, np.abs(ts['fourier_amps']))\n",
    "    \n",
    "#axes[-1].plot(freqs, np.abs(effect_amps))\n",
    "\n",
    "#plt.setp(axes, ylabel='Fourier Ampl (g-s)', xscale='log', yscale='log')\n",
    "#axes[-1].set(xlabel='Freq. (Hz)')\n",
    "\n",
    "#fig.tight_layout()"
   ]
  },
  {
   "cell_type": "markdown",
   "metadata": {},
   "source": [
    "## Smoothed spectrum"
   ]
  },
  {
   "cell_type": "code",
   "execution_count": 8,
   "metadata": {},
   "outputs": [],
   "source": [
    "@numba.jit\n",
    "def konno_omachi_smooth(freqs, amps, bandwidth, fc):\n",
    "    # FIXME revisit this\n",
    "    # Limiting calculation at 3 provides a window value of 4.9E-6 and speeds up\n",
    "    # calculation\n",
    "    max_ratio = 10 ** (3 / bandwidth)\n",
    "\n",
    "    window_total = 0\n",
    "    total = 0\n",
    "\n",
    "    for i, freq in enumerate(freqs):\n",
    "        if abs(freq - fc) < 1E-6:\n",
    "            window = 1.\n",
    "        elif (abs(freq - 0) < 1E-6) or (abs(fc - 0) < 1E-6):\n",
    "            window = 0\n",
    "        elif (freq / float(fc)) > max_ratio or (fc / float(freq)) > max_ratio:\n",
    "            continue\n",
    "        else:\n",
    "            x = bandwidth * np.log10(freq / float(fc))\n",
    "            window = (np.sin(x) / float(x)) ** 4\n",
    "\n",
    "        total += window * amps[i]\n",
    "        window_total += window\n",
    "\n",
    "    return total / float(window_total)"
   ]
  },
  {
   "cell_type": "code",
   "execution_count": 9,
   "metadata": {},
   "outputs": [],
   "source": [
    "ko_bandwidth = 30\n",
    "freqs_interp = np.logspace(-1, 2, num=301)\n",
    "\n",
    "# Floating point division (from Python 3) is needed to run konno_omachi_smooth\n",
    "smoothed = np.array([\n",
    "    konno_omachi_smooth(freqs, effect_amps, ko_bandwidth, fc)\n",
    "    for fc in freqs_interp\n",
    "])"
   ]
  },
  {
   "cell_type": "markdown",
   "metadata": {},
   "source": [
    "Plotting the final results: raw versus smoothed data"
   ]
  },
  {
   "cell_type": "code",
   "execution_count": 10,
   "metadata": {},
   "outputs": [
    {
     "data": {
      "image/png": "[encoded data removed]",
      "text/plain": [
       "<Figure size 432x288 with 1 Axes>"
      ]
     },
     "metadata": {
      "needs_background": "light"
     },
     "output_type": "display_data"
    }
   ],
   "source": [
    "fig, ax = plt.subplots()\n",
    "\n",
    "ax.plot(freqs, effect_amps, label='Raw')\n",
    "ax.plot(freqs_interp, smoothed, label='Smoothed')\n",
    "\n",
    "ax.set(\n",
    "    xlabel='Freq. (Hz)', xscale='log',\n",
    "    ylabel='Fourier Ampl (g-s)', yscale='log'\n",
    ")\n",
    "ax.legend()\n",
    "\n",
    "fig.tight_layout()"
   ]
  }
 ],
 "metadata": {
  "kernelspec": {
   "display_name": "Python 2",
   "language": "python",
   "name": "python2"
  },
  "language_info": {
   "codemirror_mode": {
    "name": "ipython",
    "version": 2
   },
   "file_extension": ".py",
   "mimetype": "text/x-python",
   "name": "python",
   "nbconvert_exporter": "python",
   "pygments_lexer": "ipython2",
   "version": "2.7.15"
  }
 },
 "nbformat": 4,
 "nbformat_minor": 2
}
